{
 "cells": [
  {
   "cell_type": "code",
   "execution_count": 1,
   "metadata": {},
   "outputs": [],
   "source": [
    "import pandas as pd\n",
    "import pyarrow as pa\n",
    "import fastparquet as fp\n"
   ]
  },
  {
   "cell_type": "code",
   "execution_count": 2,
   "metadata": {},
   "outputs": [],
   "source": [
    "# Importe os arquivos CSV para DataFrames Pandas\n",
    "dados_2018_co = pd.read_csv('dados_co/ENEM_2018_CENTROOESTE.csv',encoding='utf-8', sep = ';',index_col=0)\n",
    "dados_2019_co = pd.read_csv('dados_co/ENEM_2019_CENTROOESTE.csv',encoding='utf-8', sep = ';',index_col=0)\n",
    "dados_2020_co = pd.read_csv('dados_co/ENEM_2020_CENTROOESTE.csv',encoding='utf-8', sep = ';',index_col=0)\n",
    "dados_2021_co = pd.read_csv('dados_co/ENEM_2021_CENTROOESTE.csv',encoding='utf-8', sep = ';',index_col=0)\n",
    "dados_2022_co = pd.read_csv('dados_co/ENEM_2022_CENTROOESTE.csv',encoding='utf-8', sep = ';',index_col=0)\n"
   ]
  },
  {
   "cell_type": "code",
   "execution_count": 3,
   "metadata": {},
   "outputs": [],
   "source": [
    "# Converta os DataFrames em arquivos Parquet\n",
    "dados_2018_co.to_parquet('dados_co/ENEM_2018_CENTROOESTE.parquet')\n",
    "dados_2019_co.to_parquet('dados_co/ENEM_2019_CENTROOESTE.parquet')\n",
    "dados_2020_co.to_parquet('dados_co/ENEM_2020_CENTROOESTE.parquet')\n",
    "dados_2021_co.to_parquet('dados_co/ENEM_2021_CENTROOESTE.parquet')\n",
    "dados_2022_co.to_parquet('dados_co/ENEM_2022_CENTROOESTE.parquet')"
   ]
  },
  {
   "cell_type": "code",
   "execution_count": 4,
   "metadata": {},
   "outputs": [],
   "source": [
    "enem_co_tratado = pd.read_csv('ENEM_CO_TRATADO.csv',encoding='utf-8', sep = ';',index_col=0)"
   ]
  },
  {
   "cell_type": "code",
   "execution_count": 6,
   "metadata": {},
   "outputs": [],
   "source": [
    "enem_co_tratado.to_parquet('ENEM_CO_TRATADO.parquet')"
   ]
  }
 ],
 "metadata": {
  "kernelspec": {
   "display_name": "Python 3",
   "language": "python",
   "name": "python3"
  },
  "language_info": {
   "codemirror_mode": {
    "name": "ipython",
    "version": 3
   },
   "file_extension": ".py",
   "mimetype": "text/x-python",
   "name": "python",
   "nbconvert_exporter": "python",
   "pygments_lexer": "ipython3",
   "version": "3.10.12"
  },
  "orig_nbformat": 4
 },
 "nbformat": 4,
 "nbformat_minor": 2
}
