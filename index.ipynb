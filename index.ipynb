{
 "cells": [
  {
   "cell_type": "code",
   "execution_count": 11,
   "metadata": {},
   "outputs": [],
   "source": [
    "import pandas as pd\n",
    "import pyarrow as pa\n",
    "import fastparquet as fp\n"
   ]
  },
  {
   "cell_type": "code",
   "execution_count": 12,
   "metadata": {},
   "outputs": [],
   "source": [
    "# Importe os arquivos CSV para DataFrames Pandas\n",
    "dados_2018_co = pd.read_csv('dados_co/ENEM_2018_CENTROOESTE.csv')\n",
    "dados_2019_co = pd.read_csv('dados_co/ENEM_2019_CENTROOESTE.csv')\n",
    "dados_2020_co = pd.read_csv('dados_co/ENEM_2020_CENTROOESTE.csv')\n",
    "dados_2021_co = pd.read_csv('dados_co/ENEM_2021_CENTROOESTE.csv')\n",
    "dados_2022_co = pd.read_csv('dados_co/ENEM_2022_CENTROOESTE.csv')\n"
   ]
  },
  {
   "cell_type": "code",
   "execution_count": 13,
   "metadata": {},
   "outputs": [],
   "source": [
    "# Converta os DataFrames em arquivos Parquet\n",
    "dados_2018_co.to_parquet('dados_co/ENEM_2018_CENTROOESTE.parquet')\n",
    "dados_2019_co.to_parquet('dados_co/ENEM_2019_CENTROOESTE.parquet')\n",
    "dados_2020_co.to_parquet('dados_co/ENEM_2020_CENTROOESTE.parquet')\n",
    "dados_2021_co.to_parquet('dados_co/ENEM_2021_CENTROOESTE.parquet')\n",
    "dados_2022_co.to_parquet('dados_co/ENEM_2022_CENTROOESTE.parquet')"
   ]
  },
  {
   "cell_type": "code",
   "execution_count": 14,
   "metadata": {},
   "outputs": [],
   "source": [
    "enem_co_tratado = pd.read_csv('ENEM_CO_TRATADO.csv')"
   ]
  }
 ],
 "metadata": {
  "kernelspec": {
   "display_name": "Python 3",
   "language": "python",
   "name": "python3"
  },
  "language_info": {
   "codemirror_mode": {
    "name": "ipython",
    "version": 3
   },
   "file_extension": ".py",
   "mimetype": "text/x-python",
   "name": "python",
   "nbconvert_exporter": "python",
   "pygments_lexer": "ipython3",
   "version": "3.10.12"
  },
  "orig_nbformat": 4
 },
 "nbformat": 4,
 "nbformat_minor": 2
}
