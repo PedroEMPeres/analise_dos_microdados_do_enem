{
 "cells": [
  {
   "cell_type": "markdown",
   "metadata": {
    "id": "oxGURa6zGfuY"
   },
   "source": [
    "# Projeto Técnicas de Programação\n",
    "## Grupo 7 - Turma 1007 - ADA Santader Coders 2023 Data Science\n",
    "---\n",
    "## Membros\n",
    "### Clara Ferreira Batista\n",
    "### Laura Muglia\n",
    "### Luana Ferraz\n",
    "### Pedro Elias\n",
    "### Rafael Couto de Oliveira\n",
    "---\n",
    "\n",
    "Nosso repositório :\n",
    "https://github.com/claraferreirabatista/analise_dos_microdados_do_enem.git"
   ]
  },
  {
   "cell_type": "markdown",
   "metadata": {
    "id": "S7QHnk4ABllP"
   },
   "source": [
    "---\n",
    "## *Introdução*\n",
    "\n",
    "* Motivo do trabalho: Analise dos Microdados do Enem;\n",
    "* Contexto da analise do trabalho: Analise do impacto da COVID-19 nos números da região Centro-oeste referente aos anos de 2018 a 2022;\n",
    "* Onde encontrar os dados : https://www.gov.br/inep/pt-br/acesso-a-informacao/dados-abertos/microdados/enem."
   ]
  },
  {
   "cell_type": "markdown",
   "metadata": {
    "id": "-A0WVtcRBq8P"
   },
   "source": [
    "### Divisão de tarefas\n",
    "\n",
    "* Escolha do tópico: Laura Muglia\n",
    "* Extração dos dados e amostras: Pedro Elias\n",
    "* Carregamento, limpeza e tratativa dos dados: Rafael Couto\n",
    "* Elaboração das perguntas: Luana Ferraz e Laura Muglia\n",
    "* Análise exploratória: Pedro Elias, Rafael Couto\n",
    "* Elaboração de gráficos: Pedro Elias, Luana Ferraz\n",
    "* BugFix, reprodutibilidade e repositório: Clara Ferreira Batista\n",
    "* Conclusões:\n"
   ]
  },
  {
   "cell_type": "markdown",
   "metadata": {
    "id": "hwDbQ2wtQhYT"
   },
   "source": [
    "---\n",
    "## Importando bibliotecas"
   ]
  },
  {
   "cell_type": "code",
   "execution_count": null,
   "metadata": {
    "id": "zkYe5ePkQhHj"
   },
   "outputs": [],
   "source": [
    "import pandas as pd\n",
    "import matplotlib.pyplot as plt"
   ]
  },
  {
   "cell_type": "markdown",
   "metadata": {
    "id": "2qoxdSJeByTm"
   },
   "source": [
    "# Carregamento dos dados"
   ]
  },
  {
   "cell_type": "code",
   "execution_count": null,
   "metadata": {
    "id": "6ZUwTXxMBOuf"
   },
   "outputs": [],
   "source": [
    "# Importe os arquivos Parquet para DataFrames Pandas\n",
    "dados_2018_co = pd.read_parquet('dados_co/ENEM_2018_CENTROOESTE.parquet')\n",
    "dados_2019_co = pd.read_parquet('dados_co/ENEM_2019_CENTROOESTE.parquet')\n",
    "dados_2020_co = pd.read_parquet('dados_co/ENEM_2020_CENTROOESTE.parquet')\n",
    "dados_2021_co = pd.read_parquet('dados_co/ENEM_2021_CENTROOESTE.parquet')\n",
    "dados_2022_co = pd.read_parquet('dados_co/ENEM_2022_CENTROOESTE.parquet')"
   ]
  },
  {
   "cell_type": "code",
   "execution_count": null,
   "metadata": {
    "id": "VXf1zwegDHRl"
   },
   "outputs": [],
   "source": [
    "# Concatenar os DataFrames\n",
    "dados = pd.concat([dados_2018_co, dados_2019_co, dados_2020_co, dados_2021_co, dados_2022_co], ignore_index=True)\n",
    "dados = dados.set_index('NU_INSCRICAO')\n",
    "#Configurar pandas para exibir todas as colunas\n",
    "pd.set_option('display.max_columns', None)"
   ]
  },
  {
   "cell_type": "markdown",
   "metadata": {
    "id": "9zMDoNV1DK0f"
   },
   "source": [
    "O dataset original foi carregado com 2.018.780 linhas e 76 colunas."
   ]
  },
  {
   "cell_type": "markdown",
   "metadata": {
    "id": "KXHBwW-bDzGX"
   },
   "source": [
    " ---\n",
    "# 1. Limpeza dos dados\n",
    "Exclusão de linhas e colunas não interessantes, unificação e redução de colunas que representam a mesma informação, tratativa de váriaveis e export do `dataset` limpo e tratado."
   ]
  },
  {
   "cell_type": "markdown",
   "metadata": {
    "id": "lyrC30xpGMvF"
   },
   "source": [
    "## 1.1 Exclusão de Colunas\n",
    "Exclusão de colunas que não se mostraram importantes para análise."
   ]
  },
  {
   "cell_type": "code",
   "execution_count": null,
   "metadata": {
    "id": "A1eznYIgDtB0"
   },
   "outputs": [],
   "source": [
    "#Exclusão das colunas de questões socioeconomicas não interessantes, respostas e gabaritos\n",
    "\n",
    "#Colunas de questões\n",
    "dados = dados.iloc[:,:57]\n",
    "\n",
    "#Colunas de gabarito\n",
    "col_gabaritos = ['TX_GABARITO_MT','TX_GABARITO_LC','TX_GABARITO_CH','TX_GABARITO_CN']\n",
    "dados.drop(columns=col_gabaritos, inplace=True)\n",
    "\n",
    "#Colunas de respostas\n",
    "col_respostas = ['TX_RESPOSTAS_MT','TX_RESPOSTAS_LC', 'TX_RESPOSTAS_CH','TX_RESPOSTAS_CN']\n",
    "dados.drop(columns=col_respostas, inplace=True)"
   ]
  },
  {
   "cell_type": "code",
   "execution_count": null,
   "metadata": {
    "id": "RevGcBf4GTP0"
   },
   "outputs": [],
   "source": [
    "#Exclusão de colunas não importantes para a análise\n",
    "\n",
    "#Estado Civil\n",
    "dados.drop(columns='TP_ESTADO_CIVIL', inplace=True)\n",
    "\n",
    "#Tipo de instituição\n",
    "dados.drop(columns='TP_ENSINO', inplace=True)\n",
    "\n",
    "#Situação da escola\n",
    "dados.drop(columns='TP_SIT_FUNC_ESC', inplace=True)\n",
    "\n",
    "#codigos do municipio/estado\n",
    "col_codigoslocais = ['CO_MUNICIPIO_ESC','CO_UF_ESC','CO_MUNICIPIO_PROVA','CO_UF_PROVA']\n",
    "dados.drop(columns=col_codigoslocais, inplace=True)\n",
    "\n",
    "#codigo da cor da prova\n",
    "col_cores = ['CO_PROVA_CN','CO_PROVA_CH','CO_PROVA_LC','CO_PROVA_MT']\n",
    "dados.drop(columns=col_cores, inplace=True)\n",
    "\n",
    "#competencias redação\n",
    "col_competencias = ['NU_NOTA_COMP1','NU_NOTA_COMP2','NU_NOTA_COMP3','NU_NOTA_COMP4','NU_NOTA_COMP5']\n",
    "dados.drop(columns=col_competencias, inplace=True)\n"
   ]
  },
  {
   "cell_type": "code",
   "execution_count": null,
   "metadata": {
    "id": "hlxWVKv-GVyu"
   },
   "outputs": [],
   "source": [
    "#Exclusão das linhas de treineiros e da coluna\n",
    "dados = dados[dados['IN_TREINEIRO'] == 0]\n",
    "dados.drop(columns='IN_TREINEIRO', inplace=True)"
   ]
  },
  {
   "cell_type": "markdown",
   "metadata": {
    "id": "x32FytLFGYhu"
   },
   "source": [
    "## 1.2 Unificação de Colunas\n",
    "Unificação de colunas multiplas em colunas singulares."
   ]
  },
  {
   "cell_type": "code",
   "execution_count": null,
   "metadata": {
    "id": "1PES5fMnHDdd"
   },
   "outputs": [],
   "source": [
    "#Unir presenças\n",
    "#0\tFaltou à prova\n",
    "#1\tPresente na prova\n",
    "#2\tEliminado na prova\n",
    "\n",
    "dados['TP_PRESENCA_MT'] =  dados['TP_PRESENCA_MT'].astype(str)\n",
    "dados['TP_PRESENCA_CN'] =  dados['TP_PRESENCA_CN'].astype(str)\n",
    "dados['TP_PRESENCA_CH'] =  dados['TP_PRESENCA_CH'].astype(str)\n",
    "dados['TP_PRESENCA_LC'] =  dados['TP_PRESENCA_LC'].astype(str)\n",
    "\n",
    "\n",
    "#Soma os TP_PRESENCA_CN, TP_PRESENCA_CH, TP_PRESENCA_LC,TP_PRESENCA_MT\n",
    "dados['TP_PRESENCA'] = dados['TP_PRESENCA_CN'] + dados['TP_PRESENCA_CH'] + dados['TP_PRESENCA_LC'] + dados['TP_PRESENCA_MT']\n",
    "\n",
    "#deletar as colunas de presença\n",
    "col_presenca = ['TP_PRESENCA_MT','TP_PRESENCA_CN','TP_PRESENCA_CH','TP_PRESENCA_LC']\n",
    "dados.drop(columns=col_presenca, inplace=True)"
   ]
  },
  {
   "cell_type": "code",
   "execution_count": null,
   "metadata": {
    "colab": {
     "base_uri": "https://localhost:8080/",
     "height": 487
    },
    "id": "NZUCGe0vSyac",
    "outputId": "7cb6caaf-e068-41a6-e814-ecdee0f64e1e"
   },
   "outputs": [],
   "source": [
    "#Analisando dados unidos\n",
    "prop_presenca = dados['TP_PRESENCA'].value_counts(normalize=True)*100\n",
    "\n",
    "#printando\n",
    "graf1 = prop_presenca.plot(kind='bar')\n",
    "plt.title('Proporções dos Valores Únicos na Coluna TP_PRESENCA')\n",
    "plt.xlabel('Valor')\n",
    "plt.ylabel('Proporção (%)')\n",
    "#plt.xticks(rotation=0)\n",
    "graf1.bar_label(graf1.containers[0], fmt='%.2f%%')\n",
    "plt.tight_layout()\n",
    "plt.show()"
   ]
  },
  {
   "cell_type": "markdown",
   "metadata": {
    "id": "C7NgwGGDZj8n"
   },
   "source": [
    "Os valores da coluna `TP_PRESENCA` serão transformados em `bool` e serão tratados da seguinte forma:\n",
    "* `1 1 1 1` : Aluno Presente, 4 presenças (`TRUE`)\n",
    "* `demais valores`: Aluno Ausente ou eliminado em uma ou mais provas (`FALSE`)"
   ]
  },
  {
   "cell_type": "code",
   "execution_count": null,
   "metadata": {
    "id": "cLN0G8FoVtiL"
   },
   "outputs": [],
   "source": [
    "dados['TP_PRESENCA'] = dados['TP_PRESENCA'].map({'1.01.01.01.0': True})\n",
    "dados['TP_PRESENCA'] = dados['TP_PRESENCA'].fillna(False)"
   ]
  },
  {
   "cell_type": "code",
   "execution_count": null,
   "metadata": {
    "id": "Kg9tMPQUHE2O"
   },
   "outputs": [],
   "source": [
    "#Nota Geral - Criar nova coluna somando as notas\n",
    "dados['NU_NOTA_GERAL']=dados['NU_NOTA_CN'] + dados['NU_NOTA_CH'] + dados['NU_NOTA_LC'] + dados['NU_NOTA_MT']"
   ]
  },
  {
   "cell_type": "markdown",
   "metadata": {
    "id": "lhhUdSUGHJa2"
   },
   "source": [
    "## 1.3 Tratativa dos dados\n",
    "\n",
    "Elaboração das tabelas \"de-para\" para valores que estão como \"flag\" ou valores numéricos, porém representam variaveis categóricas,substituição de flags por valores em colunas com baixa variabilidade e correção de formatos."
   ]
  },
  {
   "cell_type": "markdown",
   "metadata": {
    "id": "iE9XUViw4BX_"
   },
   "source": [
    "#### 1.3.1 Tabelas \"De-para\"\n",
    "\n",
    "Elaboração das tabelas \"de-para\" para valores que estão como \"flag\" ou valores numéricos, porém representam variaveis categóricas. Usado para variáveis de alta variabilidade."
   ]
  },
  {
   "cell_type": "code",
   "execution_count": null,
   "metadata": {
    "id": "ldHAY2mEHIvl"
   },
   "outputs": [],
   "source": [
    "#Tabela de/para: Faixa etária\n",
    "\n",
    "# Dados para a coluna #TP_FAIXA_ETARIA\n",
    "dp_idades = {\n",
    "    'TP_FAIXA_ETARIA': [1, 2, 3, 4, 5, 6, 7, 8, 9, 10,\n",
    "                         11, 12, 13, 14, 15, 16, 17, 18, 19, 20],\n",
    "    'Faixa Etária': ['Menor de 17 anos', '17 anos', '18 anos', '19 anos', '20 anos',\n",
    "                     '21 anos', '22 anos', '23 anos', '24 anos', '25 anos',\n",
    "                     'Entre 26 e 30 anos', 'Entre 31 e 35 anos', 'Entre 36 e 40 anos', 'Entre 41 e 45 anos',\n",
    "                     'Entre 46 e 50 anos', 'Entre 51 e 55 anos', 'Entre 56 e 60 anos',\n",
    "                     'Entre 61 e 65 anos', 'Entre 66 e 70 anos', 'Maior de 70 anos'],\n",
    "    'Média idade': [16, 17, 18, 19, 20, 21, 22, 23, 24, 25, 28, 33, 38, 43, 48, 53, 58, 63, 68, 72]\n",
    "}\n",
    "\n",
    "dp_idades = pd.DataFrame(dp_idades).set_index('TP_FAIXA_ETARIA')"
   ]
  },
  {
   "cell_type": "code",
   "execution_count": null,
   "metadata": {
    "id": "r2u_dJENIdm9"
   },
   "outputs": [],
   "source": [
    "#Tabela de/para: Cor/Raça\n",
    "\n",
    "#Dados para a coluna #TP_COR_RACA\n",
    "dp_raca = {\n",
    "    'TP_COR_RACA': [0, 1, 2, 3, 4, 5, 6],\n",
    "    'Cor/Raça': ['Não declarado', 'Branca', 'Preta', 'Parda', 'Amarela', 'Indígena', 'Não dispõe da informação']\n",
    "}\n",
    "dp_raca = pd.DataFrame(dp_raca).set_index('TP_COR_RACA')"
   ]
  },
  {
   "cell_type": "code",
   "execution_count": null,
   "metadata": {
    "id": "KaiuQrdsIfFl"
   },
   "outputs": [],
   "source": [
    "#Tabela de/para: Nacionalidade\n",
    "\n",
    "#Dados para a coluna TP_NACIONALIDADE\n",
    "dp_nacionalidade = {\n",
    "    'TP_NACIONALIDADE': [0, 1, 2, 3, 4],\n",
    "    'Nacionalidade_info': ['Não informado', 'Brasileiro(a)', 'Brasileiro(a) Naturalizado(a)',\n",
    "                      'Estrangeiro(a)', 'Brasileiro(a) Nato(a), nascido(a) no exterior']\n",
    "}\n",
    "\n",
    "dp_nacionalidade = pd.DataFrame(dp_nacionalidade).set_index('TP_NACIONALIDADE')"
   ]
  },
  {
   "cell_type": "code",
   "execution_count": null,
   "metadata": {
    "id": "SJabJ4ErkIii"
   },
   "outputs": [],
   "source": [
    "#Tabela de/para: Situação conclusão\n",
    "\n",
    "#Dados para a coluna TP_ST_CONCLUSAO\n",
    "dp_conclusao = {\n",
    "    'TP_ST_CONCLUSAO': [1, 2, 3, 4],\n",
    "    'Situação do Ensino Médio': ['Já concluí o Ensino Médio',\n",
    "                                 'Estou cursando e concluirei o Ensino Médio no Ano da Prova',\n",
    "                                 'Estou cursando e concluirei o Ensino Médio após o Ano da Prova',\n",
    "                                 'Não concluí e não estou cursando o Ensino Médio']\n",
    "}\n",
    "\n",
    "dp_conclusao = pd.DataFrame(dp_conclusao).set_index('TP_ST_CONCLUSAO')"
   ]
  },
  {
   "cell_type": "code",
   "execution_count": null,
   "metadata": {
    "id": "7xSDjFH0IggN"
   },
   "outputs": [],
   "source": [
    "#Tabela de/para: Ano Conclusão\n",
    "\n",
    "# Dados para a coluna #TP_ANO_CONCLUIU\n",
    "dp_ano_conclusao = {\n",
    "    'TP_ANO_CONCLUIU': [0, 1, 2, 3, 4, 5, 6, 7, 8, 9, 10,\n",
    "                         11, 12, 13, 14, 15, 16],\n",
    "    'Ano Concluiu': ['Não informado', '2021', '2020', '2019', '2018', '2017', '2016',\n",
    "                     '2015', '2014', '2013', '2012', '2011', '2010', '2009', '2008',\n",
    "                     '2007', 'Antes de 2007']\n",
    "}\n",
    "\n",
    "dp_ano_conclusao = pd.DataFrame(dp_ano_conclusao).set_index('TP_ANO_CONCLUIU')"
   ]
  },
  {
   "cell_type": "code",
   "execution_count": null,
   "metadata": {
    "id": "zrTLXPikImwV"
   },
   "outputs": [],
   "source": [
    "#Tabela de/para: Status Redação\n",
    "\n",
    "# Dados para a coluna TP_STATUS_REDACAO\n",
    "\n",
    "dp_redacao = {\n",
    "    'TP_STATUS_REDACAO': [1, 2, 3, 4, 6, 7, 8, 9],\n",
    "    'Status Redacao': ['Sem problemas', 'Anulada', 'Cópia Texto Motivador', 'Em Branco',\n",
    "                       'Fuga ao tema', 'Não atendimento ao tipo textual', 'Texto insuficiente', 'Parte desconectada']\n",
    "}\n",
    "\n",
    "dp_redacao = pd.DataFrame(dp_redacao).set_index('TP_STATUS_REDACAO')"
   ]
  },
  {
   "cell_type": "markdown",
   "metadata": {
    "id": "PT8Efc4g4OEM"
   },
   "source": [
    "#### 1.3.2 Substituição de variáveis\n",
    "Substituição de flags por valores em colunas com baixa variabilidade."
   ]
  },
  {
   "cell_type": "code",
   "execution_count": null,
   "metadata": {
    "id": "ys66rTKwIiCd"
   },
   "outputs": [],
   "source": [
    "#Substituição dos valores na coluna TP_ESCOLA\n",
    "\n",
    "dados['TP_ESCOLA'] = dados['TP_ESCOLA'].map({1:'Não Respondeu', 2:'Pública', 3:'Privada'})"
   ]
  },
  {
   "cell_type": "code",
   "execution_count": null,
   "metadata": {
    "id": "LS06Ue3bIjX_"
   },
   "outputs": [],
   "source": [
    "#Substituição dos valores na coluna TP_LINGUA\n",
    "\n",
    "dados['TP_LINGUA'] = dados['TP_LINGUA'].map({0:'Inglês', 1:'Espanhol'})"
   ]
  },
  {
   "cell_type": "code",
   "execution_count": null,
   "metadata": {
    "id": "iCYxZPiiImSm"
   },
   "outputs": [],
   "source": [
    "#Substituição dos valores na coluna TP_DEPENDENCIA_ADM_ESC\n",
    "\n",
    "dados['TP_DEPENDENCIA_ADM_ESC'] = dados['TP_DEPENDENCIA_ADM_ESC'].map({1:'Federal', 2:'Estadual', 3:'Municipal',4:'Privada'})\n"
   ]
  },
  {
   "cell_type": "code",
   "execution_count": null,
   "metadata": {
    "id": "07inxrzxo9Rr"
   },
   "outputs": [],
   "source": [
    "#Substituição dos valores na coluna TP_LOCALIZACAO_ESC\n",
    "\n",
    "dados['TP_LOCALIZACAO_ESC'] = dados['TP_LOCALIZACAO_ESC'].map({1:'Urbana', 2:'Rural'})"
   ]
  },
  {
   "cell_type": "markdown",
   "metadata": {
    "id": "rVg1rGBkI4xd"
   },
   "source": [
    "#### 1.3.3 Tratar dados nulos\n",
    "Remoção de dados ou alocação de valores para dados nulos."
   ]
  },
  {
   "cell_type": "code",
   "execution_count": null,
   "metadata": {
    "id": "lNviitQktE2K"
   },
   "outputs": [],
   "source": [
    "#excluir linhas com presença nula\n",
    "dados.dropna(subset=['TP_PRESENCA'],inplace=True)"
   ]
  },
  {
   "cell_type": "code",
   "execution_count": null,
   "metadata": {
    "id": "dfwxHf_ztL1Z"
   },
   "outputs": [],
   "source": [
    "#excluir linhas com questionarios socio economicos nulos q001, q002 etc\n",
    "dados.dropna(subset=['Q001'],inplace=True)\n",
    "dados.dropna(subset=['Q002'],inplace=True)\n",
    "dados.dropna(subset=['Q003'],inplace=True)\n",
    "dados.dropna(subset=['Q004'],inplace=True)\n",
    "dados.dropna(subset=['Q005'],inplace=True)\n",
    "dados.dropna(subset=['Q006'],inplace=True)"
   ]
  },
  {
   "cell_type": "code",
   "execution_count": null,
   "metadata": {
    "id": "TqkZAI8itWd5"
   },
   "outputs": [],
   "source": [
    "#Atribuir 0 para notas nulas, NU_NOTA_CN, NU_NOTA_CH, NU_NOTA_LC,NU_NOTA_MT, NU_NOTA_REDACAO, NU_NOTA_GERAL\n",
    "\n",
    "# Lista das colunas de notas\n",
    "col_notas = ['NU_NOTA_CN', 'NU_NOTA_CH', 'NU_NOTA_LC', 'NU_NOTA_MT', 'NU_NOTA_REDACAO', 'NU_NOTA_GERAL']\n",
    "\n",
    "# Preencher 0 para os valores nulos dessas colunas\n",
    "dados[col_notas] = dados[col_notas].fillna(0)"
   ]
  },
  {
   "cell_type": "code",
   "execution_count": null,
   "metadata": {
    "id": "ofYx2tGNuA0h"
   },
   "outputs": [],
   "source": [
    "#atribuir 2 para redações nulas  - anulada TP_STATUS_REDACAO\n",
    "\n",
    "dados['TP_STATUS_REDACAO'] = dados['TP_STATUS_REDACAO'].fillna(2)"
   ]
  },
  {
   "cell_type": "markdown",
   "metadata": {
    "id": "h2Mn9zDJWr9u"
   },
   "source": [
    "#### 1.3.4 Ajustar Formatos\n",
    "Corrigir tipos das colunas do dataset\n"
   ]
  },
  {
   "cell_type": "code",
   "execution_count": null,
   "metadata": {
    "id": "LWa1yHjivmAo"
   },
   "outputs": [],
   "source": [
    "#converter TP_PRESENCA para bool\n",
    "dados['TP_PRESENCA']=dados['TP_PRESENCA'].astype(bool)"
   ]
  },
  {
   "cell_type": "markdown",
   "metadata": {
    "id": "-SJ71_2EIt8M"
   },
   "source": [
    "## 1.4 Exportar Base tratada"
   ]
  },
  {
   "cell_type": "code",
   "execution_count": null,
   "metadata": {
    "id": "yqhWYThBIva9"
   },
   "outputs": [],
   "source": [
    "#exportar um csv unico com todos os dados tratados\n",
    "dados.to_parquet('ENEM_CO_TRATADO.parquet', index=False)"
   ]
  },
  {
   "cell_type": "markdown",
   "metadata": {
    "id": "CiFCict1yVcY"
   },
   "source": [
    "---\n",
    "# 2. Análise Exploratória das variáveis\n",
    "Visualizações de algumas variáveis para possíveis insights.\n"
   ]
  },
  {
   "cell_type": "code",
   "execution_count": null,
   "metadata": {
    "id": "NnCVjNUWyi_o"
   },
   "outputs": [],
   "source": [
    "# Importar bibliotecas\n",
    "import pandas as pd\n",
    "import matplotlib.pyplot as plt\n",
    "import seaborn as sns\n",
    "import plotly.graph_objects as go\n",
    "import plotly.express as px\n",
    "#Carregando direto os Dados Tratados:\n",
    "dados_tratados = pd.read_parquet('ENEM_CO_TRATADO.parquet')\n",
    "dados_tratados = dados_tratados.drop(columns=['Q007'])\n"
   ]
  },
  {
   "cell_type": "markdown",
   "metadata": {
    "id": "-el9Yj1Tyf6Z"
   },
   "source": [
    "## 2.1 Variaveis Qualitativas\n",
    "Análise exploratória de algumas variáveis qualitativas."
   ]
  },
  {
   "cell_type": "markdown",
   "metadata": {
    "id": "Jtk2t_g5ysAQ"
   },
   "source": [
    "### Inscritos\n",
    "Visualização da relação de inscritos e presentes ao longo dos anos."
   ]
  },
  {
   "cell_type": "code",
   "execution_count": null,
   "metadata": {
    "colab": {
     "base_uri": "https://localhost:8080/",
     "height": 468
    },
    "id": "nYUFOfONyri4",
    "outputId": "03e826e4-d5ee-4b65-a64b-a90eef2645d3"
   },
   "outputs": [],
   "source": [
    "#Plotar QUANTIDADE_INSCRITOS X ANO NU_ANO\n",
    "inscritos = pd.DataFrame(dados_tratados['NU_ANO'].value_counts())\n",
    "presente = pd.DataFrame(dados_tratados[dados_tratados['TP_PRESENCA'] == True]['NU_ANO'].value_counts())\n",
    "alunos = pd.concat([inscritos.rename(columns = {'NU_ANO':'Inscritos'}),presente.rename(columns = {'NU_ANO':'Presentes'})],axis = 1)\n",
    "alunos.sort_index().plot(kind='bar')\n",
    "#alunos.sort_index()\n"
   ]
  },
  {
   "cell_type": "markdown",
   "metadata": {
    "id": "4HlChUv5yy_z"
   },
   "source": [
    "### Faixa Etária\n"
   ]
  },
  {
   "cell_type": "code",
   "execution_count": null,
   "metadata": {
    "colab": {
     "base_uri": "https://localhost:8080/",
     "height": 447
    },
    "id": "KIKjQY9My3np",
    "outputId": "02aac094-2c5b-4326-939a-3d59922ed9ca"
   },
   "outputs": [],
   "source": [
    "#Plotar quantidades x faixas etarias dos Inscritos\n",
    "\n",
    "Faixa_Etaria = pd.DataFrame(dados_tratados['TP_FAIXA_ETARIA'].value_counts())\n",
    "faixa = pd.concat([Faixa_Etaria.rename(columns = {'count':'Inscritos'}),dp_idades], axis = 1 )\n",
    "faixa.sort_values(by='Inscritos' ).plot.barh(x = 'Faixa Etária', y = 'Inscritos')"
   ]
  },
  {
   "cell_type": "code",
   "execution_count": null,
   "metadata": {
    "colab": {
     "base_uri": "https://localhost:8080/",
     "height": 468
    },
    "id": "ZAy3foaHzIFi",
    "outputId": "d7fbdd95-cbf1-4805-9154-41370e218471"
   },
   "outputs": [],
   "source": [
    "#Plotar quantidades x faixas etarias por ano\n",
    "\n",
    "Faixa_Etaria_Ano = dados_tratados.merge(dp_idades.reindex(), on = 'TP_FAIXA_ETARIA', how = 'left')\n",
    "Faixa_Etaria_Ano = Faixa_Etaria_Ano[['Faixa Etária', 'NU_ANO']].value_counts()\n",
    "Faixa_Etaria_Ano = Faixa_Etaria_Ano.unstack()\n",
    "cmap = sns.cm.rocket_r\n",
    "sns.heatmap(Faixa_Etaria_Ano, cmap = cmap)\n",
    "#Faixa_Etaria_Ano.sort_index().plot.barh( stacked = True)\n"
   ]
  },
  {
   "cell_type": "markdown",
   "metadata": {
    "id": "P5zN0tH6zf_B"
   },
   "source": [
    "### Tipo de Escola"
   ]
  },
  {
   "cell_type": "code",
   "execution_count": null,
   "metadata": {
    "colab": {
     "base_uri": "https://localhost:8080/",
     "height": 447
    },
    "id": "dAEKSmpuzlfA",
    "outputId": "23cb2b7f-8747-484e-fe8a-deb3149c38f0"
   },
   "outputs": [],
   "source": [
    "#plotar tipo de escola x anos (barras duplas)\n",
    "tipo_escola = dados_tratados[['NU_ANO', 'TP_ESCOLA']].value_counts()\n",
    "tipo_escola = tipo_escola.unstack()\n",
    "tipo_escola.plot.barh()\n"
   ]
  },
  {
   "cell_type": "markdown",
   "metadata": {
    "id": "Djao8JXD0OPY"
   },
   "source": [
    "### Língua"
   ]
  },
  {
   "cell_type": "code",
   "execution_count": null,
   "metadata": {
    "colab": {
     "base_uri": "https://localhost:8080/",
     "height": 447
    },
    "id": "DXWu_XzbuWbc",
    "outputId": "9da37843-9aed-4b61-d451-6005f97aafa4"
   },
   "outputs": [],
   "source": [
    "#plotar quantidades linguas x anos (barras duplas)\n",
    "tipo_lingua = dados_tratados[['NU_ANO', 'TP_LINGUA']].value_counts()\n",
    "tipo_lingua = tipo_lingua.unstack()\n",
    "tipo_lingua.plot.barh()"
   ]
  },
  {
   "cell_type": "markdown",
   "metadata": {
    "id": "SWT1j8Al0h6Y"
   },
   "source": [
    "### Status Redação"
   ]
  },
  {
   "cell_type": "code",
   "execution_count": null,
   "metadata": {
    "colab": {
     "base_uri": "https://localhost:8080/",
     "height": 488
    },
    "id": "DfomiOLy0kkh",
    "outputId": "937d0734-05af-49bf-c42a-c7565466d365"
   },
   "outputs": [],
   "source": [
    "#plotar status redação geral (sem ser por ano, apenas tipos)\n",
    "tipo_redacao = dados_tratados.merge(dp_redacao.reindex(), on = 'TP_STATUS_REDACAO', how = 'left')\n",
    "tipo_redacao = tipo_redacao[['NU_ANO' , 'Status Redacao' ]].value_counts(normalize=True) * 100\n",
    "tipo_redacao = tipo_redacao.unstack()\n",
    "tipo_redacao.plot.bar()"
   ]
  },
  {
   "cell_type": "markdown",
   "metadata": {
    "id": "ff-CemyM3QZg"
   },
   "source": [
    "### Presença"
   ]
  },
  {
   "cell_type": "markdown",
   "metadata": {
    "id": "5h-9sNT2xoTe"
   },
   "source": [
    "##Análise da Amostra - Estatística"
   ]
  },
  {
   "cell_type": "markdown",
   "metadata": {
    "id": "-9wy9NoQxrGR"
   },
   "source": [
    "###Sample Size"
   ]
  },
  {
   "cell_type": "code",
   "execution_count": null,
   "metadata": {
    "colab": {
     "base_uri": "https://localhost:8080/"
    },
    "id": "ZnHOLcZgxySP",
    "outputId": "83f945ab-e115-4c06-80e1-6e77a6dfbe3f"
   },
   "outputs": [],
   "source": [
    "#Checar se a amostragem é grande o suficiente:\n",
    "# População do Centro-Oeste: 14058094 habitantes\n",
    "N = 679_108 #populacao alunos do médio e médio tecnico do Centro-Oeste - abres.org.br/estatisticas/\n",
    "p = 0.5 # proporção da população\n",
    "z_95 = 1.96 # para um nível de confiança de 95%\n",
    "z_99 = 2.58 # para um nível de confiança de 99%\n",
    "e = 0.05 #margem de erro esperada\n",
    "amostra = ((z_99**2 * p*(1-p))/(e**2))/(1+(z_99**2 * p*(1-p))/(e**2 * N))\n",
    "amostra"
   ]
  },
  {
   "cell_type": "markdown",
   "metadata": {
    "id": "9wAshRaH3a9Y"
   },
   "source": [
    "## Variáveis Quantitativas"
   ]
  },
  {
   "cell_type": "markdown",
   "metadata": {
    "id": "IPYfu46S3qgC"
   },
   "source": [
    "### Notas Gerais"
   ]
  },
  {
   "cell_type": "code",
   "execution_count": null,
   "metadata": {
    "colab": {
     "base_uri": "https://localhost:8080/",
     "height": 1000
    },
    "id": "Q618GNlz1F20",
    "outputId": "e875e2fb-2e16-4d36-db33-8fbc353a79f9"
   },
   "outputs": [],
   "source": [
    "#Distribuicao normal?\n",
    "#nota geral nao inclui a redacao\n",
    "#Shapiro Test:\n",
    "import numpy as np\n",
    "from scipy.stats import shapiro\n",
    "#import warnings\n",
    "#warnings.filterwarnings('ignore')\n",
    "\n",
    "filtro_notageral = dados_tratados['NU_NOTA_GERAL'] > 0\n",
    "anos = [2018,2019,2020,2021,2022]\n",
    "fig, axes = plt.subplots(nrows=2, ncols=3,figsize=(10, 10))\n",
    "i = 0\n",
    "j = 0\n",
    "for ano in anos:\n",
    "  filtro2 = dados_tratados['NU_ANO'] == ano\n",
    "  amostra = pd.DataFrame(dados_tratados.loc[filtro_notageral & filtro2]['NU_NOTA_GERAL'])/4\n",
    "  amostra.rename(columns={'NU_NOTA_GERAL':ano}).plot(kind = 'hist', ax=axes[i,j])\n",
    "  if j <= 1 :\n",
    "    j = j+1\n",
    "  else:\n",
    "    j = 0\n",
    "    i = i+1\n",
    "\n",
    "  pvalue = shapiro(amostra)[1]\n",
    "  if pvalue > 0.05:\n",
    "    print(f'Amostra de {ano} é distribuida normalmente com pvalue de {pvalue}')\n",
    "  elif pvalue < 0.05:\n",
    "    print(f'Amostra de {ano} NÃO é distribuida normalmente com pvalue de {pvalue}')\n",
    "\n",
    "\n",
    "\n"
   ]
  },
  {
   "cell_type": "code",
   "execution_count": null,
   "metadata": {
    "colab": {
     "base_uri": "https://localhost:8080/",
     "height": 447
    },
    "id": "GU3oZOKXsrG1",
    "outputId": "4c595c8a-1133-4ab3-b694-65e7f30f569a"
   },
   "outputs": [],
   "source": [
    "notas = dados_tratados.loc[filtro_notageral][['NU_NOTA_GERAL','NU_ANO']]\n",
    "\n",
    "notas['NU_NOTA_GERAL'] = notas['NU_NOTA_GERAL']/4\n",
    "\n",
    "media = notas.groupby('NU_ANO').agg([np.mean, np.std])\n",
    "\n",
    "media2 = media['NU_NOTA_GERAL']\n",
    "media2.rename(columns={'mean':'Média Notas'}).plot(kind = 'barh', xerr = 'std')\n"
   ]
  },
  {
   "cell_type": "code",
   "execution_count": null,
   "metadata": {
    "colab": {
     "base_uri": "https://localhost:8080/",
     "height": 542
    },
    "id": "I7_0jxyG37GY",
    "outputId": "7973fc53-551c-46c8-c0c1-436ba1a04871"
   },
   "outputs": [],
   "source": [
    "# plotar grafico de linha da média das notas ao longo do tempo\n",
    "notas = dados_tratados.loc[filtro_notageral][['NU_NOTA_GERAL','NU_ANO']]\n",
    "fig = go.Figure()\n",
    "fig.add_trace(go.Box(\n",
    "    x = notas['NU_ANO'],\n",
    "    y = notas['NU_NOTA_GERAL']/4\n",
    "))\n",
    "\n",
    "#sns.boxplot(data = notas, x = 'NU_ANO', y = 'NU_NOTA_GERAL')\n",
    "#media = pd.DataFrame(dados_tratados[['NU_ANO','NU_NOTA_GERAL']])\n",
    "#media"
   ]
  },
  {
   "cell_type": "markdown",
   "metadata": {
    "id": "KIso1AwK3uSo"
   },
   "source": [
    "### Notas Redação"
   ]
  },
  {
   "cell_type": "code",
   "execution_count": null,
   "metadata": {
    "colab": {
     "base_uri": "https://localhost:8080/",
     "height": 447
    },
    "id": "LP6_x4728w34",
    "outputId": "1d6b3f3c-2ec3-45bb-c9b8-c5a818be39c6"
   },
   "outputs": [],
   "source": [
    "notas_redacao = dados_tratados.loc[filtro_notageral][['NU_NOTA_GERAL','NU_ANO']]\n",
    "\n",
    "media_redacao = notas.groupby('NU_ANO').agg([np.mean, np.std])\n",
    "\n",
    "media_redacao2 = media_redacao['NU_NOTA_GERAL']\n",
    "media_redacao2.rename(columns={'mean':'Média Notas'}).plot(kind = 'barh', xerr = 'std')"
   ]
  },
  {
   "cell_type": "code",
   "execution_count": null,
   "metadata": {
    "colab": {
     "base_uri": "https://localhost:8080/",
     "height": 542
    },
    "id": "n48QxT2v4Drs",
    "outputId": "ba7d771c-7c49-474d-b7cd-f3f103454faf"
   },
   "outputs": [],
   "source": [
    "# plotar grafico de linha da média das notas ao longo do tempo\n",
    "filtro_redacao = dados_tratados['NU_NOTA_REDACAO'] > 0\n",
    "notas_redacao = dados_tratados.loc[filtro_redacao][['NU_NOTA_REDACAO','NU_ANO']]\n",
    "fig = go.Figure()\n",
    "fig.add_trace(go.Box(\n",
    "    x = notas_redacao['NU_ANO'],\n",
    "    y = notas_redacao['NU_NOTA_REDACAO']\n",
    "))\n"
   ]
  },
  {
   "cell_type": "markdown",
   "metadata": {
    "id": "V4trseWQ3wsp"
   },
   "source": [
    "### Correlação entre notas gerais e Notas Redação"
   ]
  },
  {
   "cell_type": "code",
   "execution_count": null,
   "metadata": {
    "colab": {
     "base_uri": "https://localhost:8080/",
     "height": 112
    },
    "id": "A2rl4xCG4Gco",
    "outputId": "e4e547f2-1a44-4e35-ebde-f646d5008585"
   },
   "outputs": [],
   "source": [
    "#plotar scatterplot notas gerais x notas redaçaão\n",
    "\n",
    "notas_correlacao = dados_tratados.loc[filtro_notageral & filtro_redacao][['NU_NOTA_GERAL','NU_NOTA_REDACAO']]\n",
    "notas_correlacao['NU_NOTA_GERAL'] = notas_correlacao['NU_NOTA_GERAL']/4\n",
    "\n",
    "notas_correlacao.corr()\n"
   ]
  },
  {
   "cell_type": "code",
   "execution_count": null,
   "metadata": {
    "colab": {
     "base_uri": "https://localhost:8080/",
     "height": 112
    },
    "id": "M7UaupS64LOI",
    "outputId": "1a47fcc5-f0c5-49c9-ded5-e13b547424aa"
   },
   "outputs": [],
   "source": [
    "#plotar scatterplot notas LC (linguagens e codigos) x notas redaçaão (hipotese, quem vai bem em portugues vai bem em redação)\n",
    "notas_correlacao_LC = dados_tratados.loc[filtro_notageral & filtro_redacao][['NU_NOTA_LC','NU_NOTA_REDACAO']]\n",
    "notas_correlacao_LC.corr()\n"
   ]
  },
  {
   "cell_type": "markdown",
   "metadata": {
    "id": "1tvM7AB-Dyeq"
   },
   "source": [
    "---\n",
    "# 3. PERGUNTAS\n",
    "\n"
   ]
  },
  {
   "cell_type": "markdown",
   "metadata": {
    "id": "qigjxpD4D9gd"
   },
   "source": [
    "##1 Como a quantidade de faltas mudou ao longo do tempo?"
   ]
  },
  {
   "cell_type": "code",
   "execution_count": null,
   "metadata": {
    "colab": {
     "base_uri": "https://localhost:8080/",
     "height": 447
    },
    "id": "Gc6g8_e8D_PR",
    "outputId": "5fe81736-d55f-49e0-fa17-d55cb706f36e"
   },
   "outputs": [],
   "source": [
    "ausentes = dados_tratados[dados_tratados['TP_PRESENCA'] == False][['NU_ANO','SG_UF_PROVA']].value_counts()\n",
    "ausentes.unstack().plot.barh(stacked = True)\n",
    "\n",
    "\n"
   ]
  },
  {
   "cell_type": "markdown",
   "metadata": {
    "id": "870HHf-pD_3m"
   },
   "source": [
    "##2"
   ]
  },
  {
   "cell_type": "code",
   "execution_count": null,
   "metadata": {
    "id": "yP1KinFHEA2C"
   },
   "outputs": [],
   "source": [
    "#Código\n",
    "#ver a parte dos tipos de escola la de cima\n"
   ]
  },
  {
   "cell_type": "markdown",
   "metadata": {
    "id": "Wm4wWwuQEBe6"
   },
   "source": [
    "##3"
   ]
  },
  {
   "cell_type": "code",
   "execution_count": null,
   "metadata": {
    "colab": {
     "base_uri": "https://localhost:8080/",
     "height": 551
    },
    "id": "CTh6iNXiEC63",
    "outputId": "f095a673-d24e-4822-fa86-eee25278f564"
   },
   "outputs": [],
   "source": [
    "#Código\n",
    "inscritos_sit_EM = dados_tratados.merge(dp_conclusao.reindex(), on = 'TP_ST_CONCLUSAO', how = 'left')\n",
    "inscritos_sit_EM = inscritos_sit_EM[['NU_ANO','Situação do Ensino Médio']].value_counts()\n",
    "inscritos_sit_EM.unstack().plot.bar(stacked=True, figsize = (15,8)).legend(loc=0)\n",
    "\n",
    "#presente = pd.DataFrame(dados_tratados[dados_tratados['TP_PRESENCA'] == True]['NU_ANO'].value_counts())\n",
    "#alunos = pd.concat([inscritos.rename(columns = {'NU_ANO':'Inscritos'}),presente.rename(columns = {'NU_ANO':'Presentes'})],axis = 1)\n",
    "#alunos.sort_index().plot(kind='bar')"
   ]
  },
  {
   "cell_type": "code",
   "execution_count": null,
   "metadata": {
    "id": "j5faPRYeHQAU"
   },
   "outputs": [],
   "source": []
  },
  {
   "cell_type": "code",
   "execution_count": null,
   "metadata": {
    "colab": {
     "base_uri": "https://localhost:8080/",
     "height": 542
    },
    "id": "EmiEfI7s6bZe",
    "outputId": "fe6551db-c2a8-43e1-c8a9-448277391536"
   },
   "outputs": [],
   "source": [
    "#Entre os Terceiro Anistas:\n",
    "#Código\n",
    "filtro_terceiroanista = dados_tratados['TP_ST_CONCLUSAO'] == 2\n",
    "terc_sit_EM = dados_tratados.loc[filtro_terceiroanista & filtro_redacao][['NU_NOTA_REDACAO','NU_ANO']]\n",
    "media_terceiroanista = terc_sit_EM.groupby('NU_ANO').agg([np.mean, np.std])\n",
    "media_terceiroanista2 = media_terceiroanista['NU_NOTA_REDACAO']\n",
    "#renomeando colunas\n",
    "media_terceiroanista2 = media_terceiroanista2.rename(columns={'mean':'mean 3a','std':'std 3a'})\n",
    "media_redacao_compara = media_redacao2.rename(columns={'mean':'mean geral','std':'std geral'})\n",
    "\n",
    "grafico_redacao = pd.concat([media_terceiroanista2,media_redacao_compara], axis = 1).reset_index()\n",
    "grafico_redacao.plot(x = 'NU_ANO',y=[\"mean 3a\", \"mean geral\"],  style='.-' , figsize = (15,8), xticks =grafico_redacao['NU_ANO'])\n",
    "y1 = np.array(grafico_redacao['mean 3a']) - np.array(grafico_redacao['std 3a'])\n",
    "y2 = np.array(grafico_redacao['mean 3a']) + np.array(grafico_redacao['std 3a'])\n",
    "plt.fill_between(grafico_redacao['NU_ANO'],y1,y2,alpha=.1)\n",
    "y1 = np.array(grafico_redacao['mean geral']) - np.array(grafico_redacao['std geral'])\n",
    "y2 = np.array(grafico_redacao['mean geral']) + np.array(grafico_redacao['std geral'])\n",
    "plt.fill_between(grafico_redacao['NU_ANO'],y1,y2,alpha=.1)\n",
    "\n",
    "\n"
   ]
  },
  {
   "cell_type": "markdown",
   "metadata": {
    "id": "hBcgXhkZEDfj"
   },
   "source": [
    "## 4. Estados que fazem divisa com países que falam espanhol tem maior escolha pela linha espanhola?\n",
    "\n",
    "\n"
   ]
  },
  {
   "cell_type": "code",
   "execution_count": null,
   "metadata": {
    "colab": {
     "base_uri": "https://localhost:8080/",
     "height": 447
    },
    "id": "nWY3jLwLEFf5",
    "outputId": "ae35731e-7a45-4d7d-d191-b8c4868db2e5"
   },
   "outputs": [],
   "source": [
    "#Código\n",
    "\n",
    "tipo_lingua = dados_tratados[['NU_ANO', 'TP_LINGUA']].value_counts()\n",
    "tipo_lingua = tipo_lingua.unstack()\n",
    "tipo_lingua.plot.barh()"
   ]
  },
  {
   "cell_type": "markdown",
   "metadata": {
    "id": "yimv3idhIk_m"
   },
   "source": [
    "---\n",
    "# 4. Conclusão"
   ]
  },
  {
   "cell_type": "markdown",
   "metadata": {
    "id": "cKwsZUdi1D8P"
   },
   "source": [
    "## Dificuldades e aprendizados\n",
    "\n",
    "\n",
    "*   Pouco tempo para decisão do dataset\n",
    "*   Dificuldade em trabalhar com dataset muito grande (garantir a reprodutibilidade)\n",
    "* Dificuldade em trabalhar num ambiente colaborativo e versionado.\n",
    "\n"
   ]
  },
  {
   "cell_type": "markdown",
   "metadata": {
    "id": "AO1Lqyd01VzQ"
   },
   "source": [
    "## Pontos Positivos\n",
    "\n",
    "\n",
    "*   Equipe multidisciplinar\n",
    "*   Troca de experiências\n",
    "\n"
   ]
  },
  {
   "cell_type": "markdown",
   "metadata": {
    "id": "CycgwyvUVa7q"
   },
   "source": [
    "## Melhorias futuras\n",
    "* Realizar testes estatisticos de normalidade\n",
    "* Realizar testes estatisticos de hipótese"
   ]
  }
 ],
 "metadata": {
  "colab": {
   "provenance": []
  },
  "kernelspec": {
   "display_name": "Python 3",
   "name": "python3"
  },
  "language_info": {
   "codemirror_mode": {
    "name": "ipython",
    "version": 3
   },
   "file_extension": ".py",
   "mimetype": "text/x-python",
   "name": "python",
   "nbconvert_exporter": "python",
   "pygments_lexer": "ipython3",
   "version": "3.10.12"
  }
 },
 "nbformat": 4,
 "nbformat_minor": 0
}
